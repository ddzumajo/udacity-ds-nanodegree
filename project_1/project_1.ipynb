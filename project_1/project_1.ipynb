{
 "cells": [
  {
   "cell_type": "markdown",
   "metadata": {
    "slideshow": {
     "slide_type": "slide"
    }
   },
   "source": [
    "# New York Airbnb\n",
    "\n",
    "The following is a notebook for completing the first project of the Data Scientist Nanodegree (Udacity). The data is from apartments in New York City.\n",
    "\n",
    "The business questions to be addressed are:\n",
    "\n",
    "* What is the most common type of property?\n",
    "\n",
    "* What is the average price per property type?\n",
    "* What is the average price per neighborhood?\n",
    "\n",
    "* What is the most common type of property by neighborhood?\n",
    "\n",
    "* What is the average price per property type and neighborhood?"
   ]
  },
  {
   "cell_type": "code",
   "execution_count": 88,
   "metadata": {
    "slideshow": {
     "slide_type": "skip"
    }
   },
   "outputs": [],
   "source": [
    "# libraries\n",
    "\n",
    "import numpy as np\n",
    "import pandas as pd\n",
    "import seaborn as sns\n",
    "import matplotlib.pyplot as plt\n",
    "from sklearn.linear_model import LinearRegression\n",
    "from sklearn import metrics\n",
    "from sklearn.model_selection import train_test_split"
   ]
  },
  {
   "cell_type": "code",
   "execution_count": 89,
   "metadata": {
    "slideshow": {
     "slide_type": "skip"
    }
   },
   "outputs": [],
   "source": [
    "# load dataset\n",
    "\n",
    "df = pd.read_csv('data/AB_NYC_2019.csv')"
   ]
  },
  {
   "cell_type": "code",
   "execution_count": 90,
   "metadata": {
    "slideshow": {
     "slide_type": "skip"
    }
   },
   "outputs": [
    {
     "data": {
      "text/html": [
       "<div>\n",
       "<style scoped>\n",
       "    .dataframe tbody tr th:only-of-type {\n",
       "        vertical-align: middle;\n",
       "    }\n",
       "\n",
       "    .dataframe tbody tr th {\n",
       "        vertical-align: top;\n",
       "    }\n",
       "\n",
       "    .dataframe thead th {\n",
       "        text-align: right;\n",
       "    }\n",
       "</style>\n",
       "<table border=\"1\" class=\"dataframe\">\n",
       "  <thead>\n",
       "    <tr style=\"text-align: right;\">\n",
       "      <th></th>\n",
       "      <th>id</th>\n",
       "      <th>name</th>\n",
       "      <th>host_id</th>\n",
       "      <th>host_name</th>\n",
       "      <th>neighbourhood_group</th>\n",
       "      <th>neighbourhood</th>\n",
       "      <th>latitude</th>\n",
       "      <th>longitude</th>\n",
       "      <th>room_type</th>\n",
       "      <th>price</th>\n",
       "      <th>minimum_nights</th>\n",
       "      <th>number_of_reviews</th>\n",
       "      <th>last_review</th>\n",
       "      <th>reviews_per_month</th>\n",
       "      <th>calculated_host_listings_count</th>\n",
       "      <th>availability_365</th>\n",
       "    </tr>\n",
       "  </thead>\n",
       "  <tbody>\n",
       "    <tr>\n",
       "      <th>0</th>\n",
       "      <td>2539</td>\n",
       "      <td>Clean &amp; quiet apt home by the park</td>\n",
       "      <td>2787</td>\n",
       "      <td>John</td>\n",
       "      <td>Brooklyn</td>\n",
       "      <td>Kensington</td>\n",
       "      <td>40.64749</td>\n",
       "      <td>-73.97237</td>\n",
       "      <td>Private room</td>\n",
       "      <td>149</td>\n",
       "      <td>1</td>\n",
       "      <td>9</td>\n",
       "      <td>2018-10-19</td>\n",
       "      <td>0.21</td>\n",
       "      <td>6</td>\n",
       "      <td>365</td>\n",
       "    </tr>\n",
       "    <tr>\n",
       "      <th>1</th>\n",
       "      <td>2595</td>\n",
       "      <td>Skylit Midtown Castle</td>\n",
       "      <td>2845</td>\n",
       "      <td>Jennifer</td>\n",
       "      <td>Manhattan</td>\n",
       "      <td>Midtown</td>\n",
       "      <td>40.75362</td>\n",
       "      <td>-73.98377</td>\n",
       "      <td>Entire home/apt</td>\n",
       "      <td>225</td>\n",
       "      <td>1</td>\n",
       "      <td>45</td>\n",
       "      <td>2019-05-21</td>\n",
       "      <td>0.38</td>\n",
       "      <td>2</td>\n",
       "      <td>355</td>\n",
       "    </tr>\n",
       "    <tr>\n",
       "      <th>2</th>\n",
       "      <td>3647</td>\n",
       "      <td>THE VILLAGE OF HARLEM....NEW YORK !</td>\n",
       "      <td>4632</td>\n",
       "      <td>Elisabeth</td>\n",
       "      <td>Manhattan</td>\n",
       "      <td>Harlem</td>\n",
       "      <td>40.80902</td>\n",
       "      <td>-73.94190</td>\n",
       "      <td>Private room</td>\n",
       "      <td>150</td>\n",
       "      <td>3</td>\n",
       "      <td>0</td>\n",
       "      <td>NaN</td>\n",
       "      <td>NaN</td>\n",
       "      <td>1</td>\n",
       "      <td>365</td>\n",
       "    </tr>\n",
       "    <tr>\n",
       "      <th>3</th>\n",
       "      <td>3831</td>\n",
       "      <td>Cozy Entire Floor of Brownstone</td>\n",
       "      <td>4869</td>\n",
       "      <td>LisaRoxanne</td>\n",
       "      <td>Brooklyn</td>\n",
       "      <td>Clinton Hill</td>\n",
       "      <td>40.68514</td>\n",
       "      <td>-73.95976</td>\n",
       "      <td>Entire home/apt</td>\n",
       "      <td>89</td>\n",
       "      <td>1</td>\n",
       "      <td>270</td>\n",
       "      <td>2019-07-05</td>\n",
       "      <td>4.64</td>\n",
       "      <td>1</td>\n",
       "      <td>194</td>\n",
       "    </tr>\n",
       "    <tr>\n",
       "      <th>4</th>\n",
       "      <td>5022</td>\n",
       "      <td>Entire Apt: Spacious Studio/Loft by central park</td>\n",
       "      <td>7192</td>\n",
       "      <td>Laura</td>\n",
       "      <td>Manhattan</td>\n",
       "      <td>East Harlem</td>\n",
       "      <td>40.79851</td>\n",
       "      <td>-73.94399</td>\n",
       "      <td>Entire home/apt</td>\n",
       "      <td>80</td>\n",
       "      <td>10</td>\n",
       "      <td>9</td>\n",
       "      <td>2018-11-19</td>\n",
       "      <td>0.10</td>\n",
       "      <td>1</td>\n",
       "      <td>0</td>\n",
       "    </tr>\n",
       "  </tbody>\n",
       "</table>\n",
       "</div>"
      ],
      "text/plain": [
       "     id                                              name  host_id  \\\n",
       "0  2539                Clean & quiet apt home by the park     2787   \n",
       "1  2595                             Skylit Midtown Castle     2845   \n",
       "2  3647               THE VILLAGE OF HARLEM....NEW YORK !     4632   \n",
       "3  3831                   Cozy Entire Floor of Brownstone     4869   \n",
       "4  5022  Entire Apt: Spacious Studio/Loft by central park     7192   \n",
       "\n",
       "     host_name neighbourhood_group neighbourhood  latitude  longitude  \\\n",
       "0         John            Brooklyn    Kensington  40.64749  -73.97237   \n",
       "1     Jennifer           Manhattan       Midtown  40.75362  -73.98377   \n",
       "2    Elisabeth           Manhattan        Harlem  40.80902  -73.94190   \n",
       "3  LisaRoxanne            Brooklyn  Clinton Hill  40.68514  -73.95976   \n",
       "4        Laura           Manhattan   East Harlem  40.79851  -73.94399   \n",
       "\n",
       "         room_type  price  minimum_nights  number_of_reviews last_review  \\\n",
       "0     Private room    149               1                  9  2018-10-19   \n",
       "1  Entire home/apt    225               1                 45  2019-05-21   \n",
       "2     Private room    150               3                  0         NaN   \n",
       "3  Entire home/apt     89               1                270  2019-07-05   \n",
       "4  Entire home/apt     80              10                  9  2018-11-19   \n",
       "\n",
       "   reviews_per_month  calculated_host_listings_count  availability_365  \n",
       "0               0.21                               6               365  \n",
       "1               0.38                               2               355  \n",
       "2                NaN                               1               365  \n",
       "3               4.64                               1               194  \n",
       "4               0.10                               1                 0  "
      ]
     },
     "execution_count": 90,
     "metadata": {},
     "output_type": "execute_result"
    }
   ],
   "source": [
    "df.head()"
   ]
  },
  {
   "cell_type": "code",
   "execution_count": 91,
   "metadata": {
    "slideshow": {
     "slide_type": "skip"
    }
   },
   "outputs": [
    {
     "data": {
      "text/plain": [
       "(48895, 16)"
      ]
     },
     "execution_count": 91,
     "metadata": {},
     "output_type": "execute_result"
    }
   ],
   "source": [
    "# dimensions\n",
    "\n",
    "df.shape"
   ]
  },
  {
   "cell_type": "code",
   "execution_count": 92,
   "metadata": {
    "slideshow": {
     "slide_type": "skip"
    }
   },
   "outputs": [
    {
     "data": {
      "text/plain": [
       "id                                  int64\n",
       "name                               object\n",
       "host_id                             int64\n",
       "host_name                          object\n",
       "neighbourhood_group                object\n",
       "neighbourhood                      object\n",
       "latitude                          float64\n",
       "longitude                         float64\n",
       "room_type                          object\n",
       "price                               int64\n",
       "minimum_nights                      int64\n",
       "number_of_reviews                   int64\n",
       "last_review                        object\n",
       "reviews_per_month                 float64\n",
       "calculated_host_listings_count      int64\n",
       "availability_365                    int64\n",
       "dtype: object"
      ]
     },
     "execution_count": 92,
     "metadata": {},
     "output_type": "execute_result"
    }
   ],
   "source": [
    "# types\n",
    "\n",
    "df.dtypes"
   ]
  },
  {
   "cell_type": "code",
   "execution_count": 93,
   "metadata": {
    "slideshow": {
     "slide_type": "skip"
    }
   },
   "outputs": [
    {
     "data": {
      "text/plain": [
       "id                                    0\n",
       "name                                 16\n",
       "host_id                               0\n",
       "host_name                            21\n",
       "neighbourhood_group                   0\n",
       "neighbourhood                         0\n",
       "latitude                              0\n",
       "longitude                             0\n",
       "room_type                             0\n",
       "price                                 0\n",
       "minimum_nights                        0\n",
       "number_of_reviews                     0\n",
       "last_review                       10052\n",
       "reviews_per_month                 10052\n",
       "calculated_host_listings_count        0\n",
       "availability_365                      0\n",
       "dtype: int64"
      ]
     },
     "execution_count": 93,
     "metadata": {},
     "output_type": "execute_result"
    }
   ],
   "source": [
    "# nana values\n",
    "\n",
    "df.isna().sum()"
   ]
  },
  {
   "cell_type": "code",
   "execution_count": 94,
   "metadata": {
    "slideshow": {
     "slide_type": "skip"
    }
   },
   "outputs": [
    {
     "data": {
      "text/plain": [
       "id                                 0.00\n",
       "name                               0.03\n",
       "host_id                            0.00\n",
       "host_name                          0.04\n",
       "neighbourhood_group                0.00\n",
       "neighbourhood                      0.00\n",
       "latitude                           0.00\n",
       "longitude                          0.00\n",
       "room_type                          0.00\n",
       "price                              0.00\n",
       "minimum_nights                     0.00\n",
       "number_of_reviews                  0.00\n",
       "last_review                       20.56\n",
       "reviews_per_month                 20.56\n",
       "calculated_host_listings_count     0.00\n",
       "availability_365                   0.00\n",
       "dtype: float64"
      ]
     },
     "execution_count": 94,
     "metadata": {},
     "output_type": "execute_result"
    }
   ],
   "source": [
    "# % of nan values\n",
    "round(df.isna().sum()/df.shape[0]*100,2)"
   ]
  },
  {
   "attachments": {},
   "cell_type": "markdown",
   "metadata": {
    "slideshow": {
     "slide_type": "skip"
    }
   },
   "source": [
    "Some strategies to treat with NaN or Null values: \n",
    "\n",
    "    1. Delete rows with at least one nan/null value.\n",
    "    \n",
    "    2. Delete the column with nan/null values if the column is not relevant. \n",
    "    \n",
    "    3. Fill the nan/null values based on some criteria:  \n",
    "        3.1. fill with the mode/median/mean of the column where the Null values is located.  \n",
    "        3.2. interpolation methods. \n",
    "        3.3. clasification methods based on clustering methods such as kmeans. \n",
    "        \n",
    "In our case, it may be of interest to analyze the number of reviews of the housing. So we remove the columns that have nan values (which also don't contribute anything) except for reviews_per_month. In this case, we will simply remove the rows that contain nan values."
   ]
  },
  {
   "cell_type": "code",
   "execution_count": 95,
   "metadata": {
    "slideshow": {
     "slide_type": "skip"
    }
   },
   "outputs": [],
   "source": [
    "# delete useless columns\n",
    "\n",
    "df.drop(['name','id','host_name','last_review','calculated_host_listings_count'], axis=1, inplace=True)"
   ]
  },
  {
   "cell_type": "code",
   "execution_count": 96,
   "metadata": {
    "slideshow": {
     "slide_type": "skip"
    }
   },
   "outputs": [
    {
     "data": {
      "text/plain": [
       "host_id                    0\n",
       "neighbourhood_group        0\n",
       "neighbourhood              0\n",
       "latitude                   0\n",
       "longitude                  0\n",
       "room_type                  0\n",
       "price                      0\n",
       "minimum_nights             0\n",
       "number_of_reviews          0\n",
       "reviews_per_month      10052\n",
       "availability_365           0\n",
       "dtype: int64"
      ]
     },
     "execution_count": 96,
     "metadata": {},
     "output_type": "execute_result"
    }
   ],
   "source": [
    "# check\n",
    "\n",
    "df.isna().sum()"
   ]
  },
  {
   "cell_type": "code",
   "execution_count": 97,
   "metadata": {
    "slideshow": {
     "slide_type": "skip"
    }
   },
   "outputs": [],
   "source": [
    "# delete rows with at least one nan\n",
    "\n",
    "df.dropna(inplace=True)"
   ]
  },
  {
   "cell_type": "code",
   "execution_count": 98,
   "metadata": {
    "slideshow": {
     "slide_type": "skip"
    }
   },
   "outputs": [
    {
     "data": {
      "text/plain": [
       "host_id                0\n",
       "neighbourhood_group    0\n",
       "neighbourhood          0\n",
       "latitude               0\n",
       "longitude              0\n",
       "room_type              0\n",
       "price                  0\n",
       "minimum_nights         0\n",
       "number_of_reviews      0\n",
       "reviews_per_month      0\n",
       "availability_365       0\n",
       "dtype: int64"
      ]
     },
     "execution_count": 98,
     "metadata": {},
     "output_type": "execute_result"
    }
   ],
   "source": [
    "# check\n",
    "\n",
    "df.isna().sum()"
   ]
  },
  {
   "cell_type": "code",
   "execution_count": 99,
   "metadata": {
    "slideshow": {
     "slide_type": "skip"
    }
   },
   "outputs": [
    {
     "data": {
      "text/plain": [
       "(38843, 11)"
      ]
     },
     "execution_count": 99,
     "metadata": {},
     "output_type": "execute_result"
    }
   ],
   "source": [
    "# dataset size after revoming nan\n",
    "\n",
    "df.shape"
   ]
  },
  {
   "cell_type": "code",
   "execution_count": 100,
   "metadata": {
    "slideshow": {
     "slide_type": "skip"
    }
   },
   "outputs": [
    {
     "data": {
      "text/html": [
       "<div>\n",
       "<style scoped>\n",
       "    .dataframe tbody tr th:only-of-type {\n",
       "        vertical-align: middle;\n",
       "    }\n",
       "\n",
       "    .dataframe tbody tr th {\n",
       "        vertical-align: top;\n",
       "    }\n",
       "\n",
       "    .dataframe thead th {\n",
       "        text-align: right;\n",
       "    }\n",
       "</style>\n",
       "<table border=\"1\" class=\"dataframe\">\n",
       "  <thead>\n",
       "    <tr style=\"text-align: right;\">\n",
       "      <th></th>\n",
       "      <th>host_id</th>\n",
       "      <th>latitude</th>\n",
       "      <th>longitude</th>\n",
       "      <th>price</th>\n",
       "      <th>minimum_nights</th>\n",
       "      <th>number_of_reviews</th>\n",
       "      <th>reviews_per_month</th>\n",
       "      <th>availability_365</th>\n",
       "    </tr>\n",
       "  </thead>\n",
       "  <tbody>\n",
       "    <tr>\n",
       "      <th>count</th>\n",
       "      <td>3.884300e+04</td>\n",
       "      <td>38843.000000</td>\n",
       "      <td>38843.000000</td>\n",
       "      <td>38843.000000</td>\n",
       "      <td>38843.000000</td>\n",
       "      <td>38843.000000</td>\n",
       "      <td>38843.000000</td>\n",
       "      <td>38843.000000</td>\n",
       "    </tr>\n",
       "    <tr>\n",
       "      <th>mean</th>\n",
       "      <td>6.423915e+07</td>\n",
       "      <td>40.728134</td>\n",
       "      <td>-73.951148</td>\n",
       "      <td>142.317947</td>\n",
       "      <td>5.868059</td>\n",
       "      <td>29.297557</td>\n",
       "      <td>1.373221</td>\n",
       "      <td>114.882888</td>\n",
       "    </tr>\n",
       "    <tr>\n",
       "      <th>std</th>\n",
       "      <td>7.588847e+07</td>\n",
       "      <td>0.054990</td>\n",
       "      <td>0.046695</td>\n",
       "      <td>196.945624</td>\n",
       "      <td>17.384784</td>\n",
       "      <td>48.186374</td>\n",
       "      <td>1.680442</td>\n",
       "      <td>129.543636</td>\n",
       "    </tr>\n",
       "    <tr>\n",
       "      <th>min</th>\n",
       "      <td>2.438000e+03</td>\n",
       "      <td>40.506410</td>\n",
       "      <td>-74.244420</td>\n",
       "      <td>0.000000</td>\n",
       "      <td>1.000000</td>\n",
       "      <td>1.000000</td>\n",
       "      <td>0.010000</td>\n",
       "      <td>0.000000</td>\n",
       "    </tr>\n",
       "    <tr>\n",
       "      <th>25%</th>\n",
       "      <td>7.033824e+06</td>\n",
       "      <td>40.688640</td>\n",
       "      <td>-73.982470</td>\n",
       "      <td>69.000000</td>\n",
       "      <td>1.000000</td>\n",
       "      <td>3.000000</td>\n",
       "      <td>0.190000</td>\n",
       "      <td>0.000000</td>\n",
       "    </tr>\n",
       "    <tr>\n",
       "      <th>50%</th>\n",
       "      <td>2.837193e+07</td>\n",
       "      <td>40.721710</td>\n",
       "      <td>-73.954800</td>\n",
       "      <td>101.000000</td>\n",
       "      <td>2.000000</td>\n",
       "      <td>9.000000</td>\n",
       "      <td>0.720000</td>\n",
       "      <td>55.000000</td>\n",
       "    </tr>\n",
       "    <tr>\n",
       "      <th>75%</th>\n",
       "      <td>1.018465e+08</td>\n",
       "      <td>40.762990</td>\n",
       "      <td>-73.935020</td>\n",
       "      <td>170.000000</td>\n",
       "      <td>4.000000</td>\n",
       "      <td>33.000000</td>\n",
       "      <td>2.020000</td>\n",
       "      <td>229.000000</td>\n",
       "    </tr>\n",
       "    <tr>\n",
       "      <th>max</th>\n",
       "      <td>2.738417e+08</td>\n",
       "      <td>40.913060</td>\n",
       "      <td>-73.712990</td>\n",
       "      <td>10000.000000</td>\n",
       "      <td>1250.000000</td>\n",
       "      <td>629.000000</td>\n",
       "      <td>58.500000</td>\n",
       "      <td>365.000000</td>\n",
       "    </tr>\n",
       "  </tbody>\n",
       "</table>\n",
       "</div>"
      ],
      "text/plain": [
       "            host_id      latitude     longitude         price  minimum_nights  \\\n",
       "count  3.884300e+04  38843.000000  38843.000000  38843.000000    38843.000000   \n",
       "mean   6.423915e+07     40.728134    -73.951148    142.317947        5.868059   \n",
       "std    7.588847e+07      0.054990      0.046695    196.945624       17.384784   \n",
       "min    2.438000e+03     40.506410    -74.244420      0.000000        1.000000   \n",
       "25%    7.033824e+06     40.688640    -73.982470     69.000000        1.000000   \n",
       "50%    2.837193e+07     40.721710    -73.954800    101.000000        2.000000   \n",
       "75%    1.018465e+08     40.762990    -73.935020    170.000000        4.000000   \n",
       "max    2.738417e+08     40.913060    -73.712990  10000.000000     1250.000000   \n",
       "\n",
       "       number_of_reviews  reviews_per_month  availability_365  \n",
       "count       38843.000000       38843.000000      38843.000000  \n",
       "mean           29.297557           1.373221        114.882888  \n",
       "std            48.186374           1.680442        129.543636  \n",
       "min             1.000000           0.010000          0.000000  \n",
       "25%             3.000000           0.190000          0.000000  \n",
       "50%             9.000000           0.720000         55.000000  \n",
       "75%            33.000000           2.020000        229.000000  \n",
       "max           629.000000          58.500000        365.000000  "
      ]
     },
     "execution_count": 100,
     "metadata": {},
     "output_type": "execute_result"
    }
   ],
   "source": [
    "df.describe()"
   ]
  },
  {
   "cell_type": "markdown",
   "metadata": {
    "slideshow": {
     "slide_type": "skip"
    }
   },
   "source": [
    "We need to check if the metrics can shed light on anomalous data. In this case:\n",
    "\n",
    "* The column availability_365 has many anomalous data. We can do without it.\n",
    "* The maximum value of price does not seem to be a real value.\n",
    "* The maximum value of minimum_night does not either."
   ]
  },
  {
   "cell_type": "code",
   "execution_count": 101,
   "metadata": {
    "slideshow": {
     "slide_type": "skip"
    }
   },
   "outputs": [],
   "source": [
    "# drop availability_365\n",
    "\n",
    "df.drop('availability_365', axis=1, inplace=True)"
   ]
  },
  {
   "cell_type": "code",
   "execution_count": 102,
   "metadata": {
    "slideshow": {
     "slide_type": "skip"
    }
   },
   "outputs": [
    {
     "data": {
      "image/png": "[encoded data removed]",
      "text/plain": [
       "<Figure size 640x480 with 1 Axes>"
      ]
     },
     "metadata": {},
     "output_type": "display_data"
    },
    {
     "data": {
      "image/png": "[encoded data removed]",
      "text/plain": [
       "<Figure size 500x500 with 1 Axes>"
      ]
     },
     "metadata": {},
     "output_type": "display_data"
    }
   ],
   "source": [
    "# plot price distribution\n",
    "\n",
    "sns.boxplot(x='price', data=df)\n",
    "plt.show();\n",
    "sns.displot(df, x='price')\n",
    "plt.show();"
   ]
  },
  {
   "cell_type": "markdown",
   "metadata": {
    "slideshow": {
     "slide_type": "skip"
    }
   },
   "source": [
    "We could keep the entire dataset and perform a complete analysis including outlier values. However, to have a more \"homogeneous\" dataset, we will keep the values between the 5th and 95th percentiles of the data based on price."
   ]
  },
  {
   "cell_type": "code",
   "execution_count": 103,
   "metadata": {
    "slideshow": {
     "slide_type": "skip"
    }
   },
   "outputs": [],
   "source": [
    "# 5th and 95th percentiles\n",
    "\n",
    "per5 = np.percentile(df[\"price\"], 5)\n",
    "per90 = np.percentile(df[\"price\"], 90)"
   ]
  },
  {
   "cell_type": "code",
   "execution_count": 104,
   "metadata": {
    "slideshow": {
     "slide_type": "skip"
    }
   },
   "outputs": [],
   "source": [
    "# clean dataset based on 5th and 95th percentiles\n",
    "df = df[(df[\"price\"] >= per5) & (df[\"price\"] <= per90)]"
   ]
  },
  {
   "cell_type": "code",
   "execution_count": 105,
   "metadata": {
    "slideshow": {
     "slide_type": "skip"
    }
   },
   "outputs": [
    {
     "data": {
      "image/png": "[encoded data removed]",
      "text/plain": [
       "<Figure size 640x480 with 1 Axes>"
      ]
     },
     "metadata": {},
     "output_type": "display_data"
    },
    {
     "data": {
      "image/png": "[encoded data removed]",
      "text/plain": [
       "<Figure size 500x500 with 1 Axes>"
      ]
     },
     "metadata": {},
     "output_type": "display_data"
    }
   ],
   "source": [
    "# plot price distribution\n",
    "\n",
    "sns.boxplot(x=\"price\", data=df)\n",
    "plt.show();\n",
    "sns.displot(df, x=\"price\")\n",
    "plt.show();"
   ]
  },
  {
   "cell_type": "code",
   "execution_count": 106,
   "metadata": {
    "slideshow": {
     "slide_type": "skip"
    }
   },
   "outputs": [
    {
     "data": {
      "text/plain": [
       "(33755, 10)"
      ]
     },
     "execution_count": 106,
     "metadata": {},
     "output_type": "execute_result"
    }
   ],
   "source": [
    "# check size\n",
    "\n",
    "df.shape"
   ]
  },
  {
   "cell_type": "code",
   "execution_count": 107,
   "metadata": {
    "slideshow": {
     "slide_type": "skip"
    }
   },
   "outputs": [
    {
     "data": {
      "text/html": [
       "<div>\n",
       "<style scoped>\n",
       "    .dataframe tbody tr th:only-of-type {\n",
       "        vertical-align: middle;\n",
       "    }\n",
       "\n",
       "    .dataframe tbody tr th {\n",
       "        vertical-align: top;\n",
       "    }\n",
       "\n",
       "    .dataframe thead th {\n",
       "        text-align: right;\n",
       "    }\n",
       "</style>\n",
       "<table border=\"1\" class=\"dataframe\">\n",
       "  <thead>\n",
       "    <tr style=\"text-align: right;\">\n",
       "      <th></th>\n",
       "      <th>host_id</th>\n",
       "      <th>latitude</th>\n",
       "      <th>longitude</th>\n",
       "      <th>price</th>\n",
       "      <th>minimum_nights</th>\n",
       "      <th>number_of_reviews</th>\n",
       "      <th>reviews_per_month</th>\n",
       "    </tr>\n",
       "  </thead>\n",
       "  <tbody>\n",
       "    <tr>\n",
       "      <th>count</th>\n",
       "      <td>3.375500e+04</td>\n",
       "      <td>33755.000000</td>\n",
       "      <td>33755.000000</td>\n",
       "      <td>33755.000000</td>\n",
       "      <td>33755.000000</td>\n",
       "      <td>33755.000000</td>\n",
       "      <td>33755.000000</td>\n",
       "    </tr>\n",
       "    <tr>\n",
       "      <th>mean</th>\n",
       "      <td>6.146312e+07</td>\n",
       "      <td>40.728169</td>\n",
       "      <td>-73.950132</td>\n",
       "      <td>113.932247</td>\n",
       "      <td>5.844645</td>\n",
       "      <td>30.234839</td>\n",
       "      <td>1.375714</td>\n",
       "    </tr>\n",
       "    <tr>\n",
       "      <th>std</th>\n",
       "      <td>7.378766e+07</td>\n",
       "      <td>0.055347</td>\n",
       "      <td>0.046258</td>\n",
       "      <td>54.915224</td>\n",
       "      <td>17.875491</td>\n",
       "      <td>49.372118</td>\n",
       "      <td>1.693547</td>\n",
       "    </tr>\n",
       "    <tr>\n",
       "      <th>min</th>\n",
       "      <td>2.438000e+03</td>\n",
       "      <td>40.506410</td>\n",
       "      <td>-74.244420</td>\n",
       "      <td>40.000000</td>\n",
       "      <td>1.000000</td>\n",
       "      <td>1.000000</td>\n",
       "      <td>0.010000</td>\n",
       "    </tr>\n",
       "    <tr>\n",
       "      <th>25%</th>\n",
       "      <td>6.790229e+06</td>\n",
       "      <td>40.688200</td>\n",
       "      <td>-73.981050</td>\n",
       "      <td>70.000000</td>\n",
       "      <td>1.000000</td>\n",
       "      <td>3.000000</td>\n",
       "      <td>0.190000</td>\n",
       "    </tr>\n",
       "    <tr>\n",
       "      <th>50%</th>\n",
       "      <td>2.655439e+07</td>\n",
       "      <td>40.720730</td>\n",
       "      <td>-73.953780</td>\n",
       "      <td>100.000000</td>\n",
       "      <td>2.000000</td>\n",
       "      <td>10.000000</td>\n",
       "      <td>0.710000</td>\n",
       "    </tr>\n",
       "    <tr>\n",
       "      <th>75%</th>\n",
       "      <td>9.339303e+07</td>\n",
       "      <td>40.763700</td>\n",
       "      <td>-73.934480</td>\n",
       "      <td>150.000000</td>\n",
       "      <td>4.000000</td>\n",
       "      <td>35.000000</td>\n",
       "      <td>2.030000</td>\n",
       "    </tr>\n",
       "    <tr>\n",
       "      <th>max</th>\n",
       "      <td>2.738417e+08</td>\n",
       "      <td>40.913060</td>\n",
       "      <td>-73.712990</td>\n",
       "      <td>250.000000</td>\n",
       "      <td>1250.000000</td>\n",
       "      <td>629.000000</td>\n",
       "      <td>58.500000</td>\n",
       "    </tr>\n",
       "  </tbody>\n",
       "</table>\n",
       "</div>"
      ],
      "text/plain": [
       "            host_id      latitude     longitude         price  minimum_nights  \\\n",
       "count  3.375500e+04  33755.000000  33755.000000  33755.000000    33755.000000   \n",
       "mean   6.146312e+07     40.728169    -73.950132    113.932247        5.844645   \n",
       "std    7.378766e+07      0.055347      0.046258     54.915224       17.875491   \n",
       "min    2.438000e+03     40.506410    -74.244420     40.000000        1.000000   \n",
       "25%    6.790229e+06     40.688200    -73.981050     70.000000        1.000000   \n",
       "50%    2.655439e+07     40.720730    -73.953780    100.000000        2.000000   \n",
       "75%    9.339303e+07     40.763700    -73.934480    150.000000        4.000000   \n",
       "max    2.738417e+08     40.913060    -73.712990    250.000000     1250.000000   \n",
       "\n",
       "       number_of_reviews  reviews_per_month  \n",
       "count       33755.000000       33755.000000  \n",
       "mean           30.234839           1.375714  \n",
       "std            49.372118           1.693547  \n",
       "min             1.000000           0.010000  \n",
       "25%             3.000000           0.190000  \n",
       "50%            10.000000           0.710000  \n",
       "75%            35.000000           2.030000  \n",
       "max           629.000000          58.500000  "
      ]
     },
     "execution_count": 107,
     "metadata": {},
     "output_type": "execute_result"
    }
   ],
   "source": [
    "df.describe()"
   ]
  },
  {
   "cell_type": "code",
   "execution_count": 108,
   "metadata": {
    "slideshow": {
     "slide_type": "skip"
    }
   },
   "outputs": [
    {
     "data": {
      "image/png": "[encoded data removed]",
      "text/plain": [
       "<Figure size 640x480 with 1 Axes>"
      ]
     },
     "metadata": {},
     "output_type": "display_data"
    }
   ],
   "source": [
    "# check minimun_ights distribution\n",
    "\n",
    "sns.boxplot(x=\"minimum_nights\", data=df)\n",
    "plt.show();"
   ]
  },
  {
   "cell_type": "code",
   "execution_count": 109,
   "metadata": {
    "slideshow": {
     "slide_type": "skip"
    }
   },
   "outputs": [],
   "source": [
    "# clean dataset based on 5th and 95th percentiles\n",
    "\n",
    "df = df[(df[\"minimum_nights\"] >=  np.percentile(df[\"minimum_nights\"], 5)) & (df[\"minimum_nights\"] <=  np.percentile(df[\"minimum_nights\"], 95))]"
   ]
  },
  {
   "cell_type": "code",
   "execution_count": 110,
   "metadata": {
    "slideshow": {
     "slide_type": "skip"
    }
   },
   "outputs": [
    {
     "data": {
      "image/png": "[encoded data removed]",
      "text/plain": [
       "<Figure size 640x480 with 1 Axes>"
      ]
     },
     "metadata": {},
     "output_type": "display_data"
    },
    {
     "data": {
      "image/png": "[encoded data removed]",
      "text/plain": [
       "<Figure size 500x500 with 1 Axes>"
      ]
     },
     "metadata": {},
     "output_type": "display_data"
    }
   ],
   "source": [
    "# plot price distribution\n",
    "\n",
    "sns.boxplot(x=\"minimum_nights\", data=df)\n",
    "plt.show();\n",
    "sns.displot(df, x=\"minimum_nights\")\n",
    "plt.show();"
   ]
  },
  {
   "cell_type": "code",
   "execution_count": 111,
   "metadata": {
    "slideshow": {
     "slide_type": "skip"
    }
   },
   "outputs": [
    {
     "data": {
      "text/plain": [
       "(33374, 10)"
      ]
     },
     "execution_count": 111,
     "metadata": {},
     "output_type": "execute_result"
    }
   ],
   "source": [
    "df.shape"
   ]
  },
  {
   "cell_type": "markdown",
   "metadata": {
    "slideshow": {
     "slide_type": "skip"
    }
   },
   "source": [
    "### Overview cleaning step\n",
    "\n",
    "* Detection and treatment of NaN values.\n",
    "\n",
    "* Selection of variables of interest.\n",
    "\n",
    "* Removal of the column availability_365 due to having too many inconsistent data points.\n",
    "\n",
    "* Analysis of outliers in price and minimum number of nights."
   ]
  },
  {
   "cell_type": "markdown",
   "metadata": {
    "slideshow": {
     "slide_type": "skip"
    }
   },
   "source": [
    "# Answer business questions\n",
    "\n",
    "* What is the most common type of property?\n",
    "\n",
    "* What is the average price per property type?\n",
    "\n",
    "* What is the average price per neighborhood?\n",
    "\n",
    "* What is the most common type of property by neighborhood?\n",
    "\n",
    "* What is the average price per property type and neighborhood?"
   ]
  },
  {
   "cell_type": "markdown",
   "metadata": {
    "slideshow": {
     "slide_type": "skip"
    }
   },
   "source": [
    "## What is the most common type of property?"
   ]
  },
  {
   "cell_type": "code",
   "execution_count": 112,
   "metadata": {
    "slideshow": {
     "slide_type": "skip"
    }
   },
   "outputs": [
    {
     "data": {
      "text/html": [
       "<div>\n",
       "<style scoped>\n",
       "    .dataframe tbody tr th:only-of-type {\n",
       "        vertical-align: middle;\n",
       "    }\n",
       "\n",
       "    .dataframe tbody tr th {\n",
       "        vertical-align: top;\n",
       "    }\n",
       "\n",
       "    .dataframe thead th {\n",
       "        text-align: right;\n",
       "    }\n",
       "</style>\n",
       "<table border=\"1\" class=\"dataframe\">\n",
       "  <thead>\n",
       "    <tr style=\"text-align: right;\">\n",
       "      <th></th>\n",
       "      <th>host_id</th>\n",
       "    </tr>\n",
       "    <tr>\n",
       "      <th>room_type</th>\n",
       "      <th></th>\n",
       "    </tr>\n",
       "  </thead>\n",
       "  <tbody>\n",
       "    <tr>\n",
       "      <th>Entire home/apt</th>\n",
       "      <td>16750</td>\n",
       "    </tr>\n",
       "    <tr>\n",
       "      <th>Private room</th>\n",
       "      <td>16133</td>\n",
       "    </tr>\n",
       "    <tr>\n",
       "      <th>Shared room</th>\n",
       "      <td>491</td>\n",
       "    </tr>\n",
       "  </tbody>\n",
       "</table>\n",
       "</div>"
      ],
      "text/plain": [
       "                 host_id\n",
       "room_type               \n",
       "Entire home/apt    16750\n",
       "Private room       16133\n",
       "Shared room          491"
      ]
     },
     "execution_count": 112,
     "metadata": {},
     "output_type": "execute_result"
    }
   ],
   "source": [
    "df[['room_type', 'host_id']].groupby('room_type').count()"
   ]
  },
  {
   "cell_type": "code",
   "execution_count": 113,
   "metadata": {
    "slideshow": {
     "slide_type": "skip"
    }
   },
   "outputs": [
    {
     "data": {
      "image/png": "[encoded data removed]",
      "text/plain": [
       "<Figure size 640x480 with 1 Axes>"
      ]
     },
     "metadata": {},
     "output_type": "display_data"
    }
   ],
   "source": [
    "sns.countplot(data=df,x='room_type')\n",
    "plt.show()"
   ]
  },
  {
   "cell_type": "markdown",
   "metadata": {},
   "source": [
    "The most common type of property we can find in NY is an entire home/apartment "
   ]
  },
  {
   "cell_type": "markdown",
   "metadata": {},
   "source": [
    "## What is the average price per property type?"
   ]
  },
  {
   "cell_type": "code",
   "execution_count": 114,
   "metadata": {
    "slideshow": {
     "slide_type": "skip"
    }
   },
   "outputs": [
    {
     "data": {
      "text/html": [
       "<div>\n",
       "<style scoped>\n",
       "    .dataframe tbody tr th:only-of-type {\n",
       "        vertical-align: middle;\n",
       "    }\n",
       "\n",
       "    .dataframe tbody tr th {\n",
       "        vertical-align: top;\n",
       "    }\n",
       "\n",
       "    .dataframe thead th {\n",
       "        text-align: right;\n",
       "    }\n",
       "</style>\n",
       "<table border=\"1\" class=\"dataframe\">\n",
       "  <thead>\n",
       "    <tr style=\"text-align: right;\">\n",
       "      <th></th>\n",
       "      <th>price</th>\n",
       "    </tr>\n",
       "    <tr>\n",
       "      <th>room_type</th>\n",
       "      <th></th>\n",
       "    </tr>\n",
       "  </thead>\n",
       "  <tbody>\n",
       "    <tr>\n",
       "      <th>Entire home/apt</th>\n",
       "      <td>148.049134</td>\n",
       "    </tr>\n",
       "    <tr>\n",
       "      <th>Private room</th>\n",
       "      <td>79.542057</td>\n",
       "    </tr>\n",
       "    <tr>\n",
       "      <th>Shared room</th>\n",
       "      <td>72.105906</td>\n",
       "    </tr>\n",
       "  </tbody>\n",
       "</table>\n",
       "</div>"
      ],
      "text/plain": [
       "                      price\n",
       "room_type                  \n",
       "Entire home/apt  148.049134\n",
       "Private room      79.542057\n",
       "Shared room       72.105906"
      ]
     },
     "execution_count": 114,
     "metadata": {},
     "output_type": "execute_result"
    }
   ],
   "source": [
    "df[['room_type', 'price']].groupby('room_type').mean()"
   ]
  },
  {
   "cell_type": "markdown",
   "metadata": {},
   "source": [
    "We can see that an entire apartment is the most expentive type of property"
   ]
  },
  {
   "cell_type": "markdown",
   "metadata": {},
   "source": [
    "## What is neighborhood with more properties?"
   ]
  },
  {
   "cell_type": "code",
   "execution_count": 115,
   "metadata": {},
   "outputs": [
    {
     "data": {
      "text/html": [
       "<div>\n",
       "<style scoped>\n",
       "    .dataframe tbody tr th:only-of-type {\n",
       "        vertical-align: middle;\n",
       "    }\n",
       "\n",
       "    .dataframe tbody tr th {\n",
       "        vertical-align: top;\n",
       "    }\n",
       "\n",
       "    .dataframe thead th {\n",
       "        text-align: right;\n",
       "    }\n",
       "</style>\n",
       "<table border=\"1\" class=\"dataframe\">\n",
       "  <thead>\n",
       "    <tr style=\"text-align: right;\">\n",
       "      <th></th>\n",
       "      <th>host_id</th>\n",
       "    </tr>\n",
       "    <tr>\n",
       "      <th>neighbourhood_group</th>\n",
       "      <th></th>\n",
       "    </tr>\n",
       "  </thead>\n",
       "  <tbody>\n",
       "    <tr>\n",
       "      <th>Bronx</th>\n",
       "      <td>717</td>\n",
       "    </tr>\n",
       "    <tr>\n",
       "      <th>Brooklyn</th>\n",
       "      <td>14548</td>\n",
       "    </tr>\n",
       "    <tr>\n",
       "      <th>Manhattan</th>\n",
       "      <td>13804</td>\n",
       "    </tr>\n",
       "    <tr>\n",
       "      <th>Queens</th>\n",
       "      <td>4047</td>\n",
       "    </tr>\n",
       "    <tr>\n",
       "      <th>Staten Island</th>\n",
       "      <td>258</td>\n",
       "    </tr>\n",
       "  </tbody>\n",
       "</table>\n",
       "</div>"
      ],
      "text/plain": [
       "                     host_id\n",
       "neighbourhood_group         \n",
       "Bronx                    717\n",
       "Brooklyn               14548\n",
       "Manhattan              13804\n",
       "Queens                  4047\n",
       "Staten Island            258"
      ]
     },
     "execution_count": 115,
     "metadata": {},
     "output_type": "execute_result"
    }
   ],
   "source": [
    "df[['host_id', 'neighbourhood_group']].groupby('neighbourhood_group').count()"
   ]
  },
  {
   "cell_type": "markdown",
   "metadata": {},
   "source": [
    "Brooklyn is the neighborhood with more properties. "
   ]
  },
  {
   "cell_type": "markdown",
   "metadata": {},
   "source": [
    "## What is the average price per neighborhood?"
   ]
  },
  {
   "cell_type": "code",
   "execution_count": 116,
   "metadata": {},
   "outputs": [
    {
     "data": {
      "text/html": [
       "<div>\n",
       "<style scoped>\n",
       "    .dataframe tbody tr th:only-of-type {\n",
       "        vertical-align: middle;\n",
       "    }\n",
       "\n",
       "    .dataframe tbody tr th {\n",
       "        vertical-align: top;\n",
       "    }\n",
       "\n",
       "    .dataframe thead th {\n",
       "        text-align: right;\n",
       "    }\n",
       "</style>\n",
       "<table border=\"1\" class=\"dataframe\">\n",
       "  <thead>\n",
       "    <tr style=\"text-align: right;\">\n",
       "      <th></th>\n",
       "      <th>price</th>\n",
       "    </tr>\n",
       "    <tr>\n",
       "      <th>neighbourhood_group</th>\n",
       "      <th></th>\n",
       "    </tr>\n",
       "  </thead>\n",
       "  <tbody>\n",
       "    <tr>\n",
       "      <th>Bronx</th>\n",
       "      <td>80.075314</td>\n",
       "    </tr>\n",
       "    <tr>\n",
       "      <th>Brooklyn</th>\n",
       "      <td>105.020346</td>\n",
       "    </tr>\n",
       "    <tr>\n",
       "      <th>Manhattan</th>\n",
       "      <td>132.537525</td>\n",
       "    </tr>\n",
       "    <tr>\n",
       "      <th>Queens</th>\n",
       "      <td>88.957499</td>\n",
       "    </tr>\n",
       "    <tr>\n",
       "      <th>Staten Island</th>\n",
       "      <td>91.744186</td>\n",
       "    </tr>\n",
       "  </tbody>\n",
       "</table>\n",
       "</div>"
      ],
      "text/plain": [
       "                          price\n",
       "neighbourhood_group            \n",
       "Bronx                 80.075314\n",
       "Brooklyn             105.020346\n",
       "Manhattan            132.537525\n",
       "Queens                88.957499\n",
       "Staten Island         91.744186"
      ]
     },
     "execution_count": 116,
     "metadata": {},
     "output_type": "execute_result"
    }
   ],
   "source": [
    "df[['price', 'neighbourhood_group']].groupby('neighbourhood_group').mean()"
   ]
  },
  {
   "cell_type": "markdown",
   "metadata": {},
   "source": [
    "## What is the average price per property type and neighborhood?"
   ]
  },
  {
   "cell_type": "markdown",
   "metadata": {},
   "source": [
    "In the following table we can see the average price per property type and neighborhood."
   ]
  },
  {
   "cell_type": "code",
   "execution_count": 74,
   "metadata": {
    "slideshow": {
     "slide_type": "skip"
    }
   },
   "outputs": [
    {
     "data": {
      "text/html": [
       "<div>\n",
       "<style scoped>\n",
       "    .dataframe tbody tr th:only-of-type {\n",
       "        vertical-align: middle;\n",
       "    }\n",
       "\n",
       "    .dataframe tbody tr th {\n",
       "        vertical-align: top;\n",
       "    }\n",
       "\n",
       "    .dataframe thead th {\n",
       "        text-align: right;\n",
       "    }\n",
       "</style>\n",
       "<table border=\"1\" class=\"dataframe\">\n",
       "  <thead>\n",
       "    <tr style=\"text-align: right;\">\n",
       "      <th></th>\n",
       "      <th></th>\n",
       "      <th>price</th>\n",
       "    </tr>\n",
       "    <tr>\n",
       "      <th>neighbourhood_group</th>\n",
       "      <th>room_type</th>\n",
       "      <th></th>\n",
       "    </tr>\n",
       "  </thead>\n",
       "  <tbody>\n",
       "    <tr>\n",
       "      <th rowspan=\"3\" valign=\"top\">Bronx</th>\n",
       "      <th>Entire home/apt</th>\n",
       "      <td>107.946996</td>\n",
       "    </tr>\n",
       "    <tr>\n",
       "      <th>Private room</th>\n",
       "      <td>61.980861</td>\n",
       "    </tr>\n",
       "    <tr>\n",
       "      <th>Shared room</th>\n",
       "      <td>59.812500</td>\n",
       "    </tr>\n",
       "    <tr>\n",
       "      <th rowspan=\"3\" valign=\"top\">Brooklyn</th>\n",
       "      <th>Entire home/apt</th>\n",
       "      <td>139.174756</td>\n",
       "    </tr>\n",
       "    <tr>\n",
       "      <th>Private room</th>\n",
       "      <td>71.901211</td>\n",
       "    </tr>\n",
       "    <tr>\n",
       "      <th>Shared room</th>\n",
       "      <td>67.045455</td>\n",
       "    </tr>\n",
       "    <tr>\n",
       "      <th rowspan=\"3\" valign=\"top\">Manhattan</th>\n",
       "      <th>Entire home/apt</th>\n",
       "      <td>163.935266</td>\n",
       "    </tr>\n",
       "    <tr>\n",
       "      <th>Private room</th>\n",
       "      <td>95.465378</td>\n",
       "    </tr>\n",
       "    <tr>\n",
       "      <th>Shared room</th>\n",
       "      <td>77.206667</td>\n",
       "    </tr>\n",
       "    <tr>\n",
       "      <th rowspan=\"3\" valign=\"top\">Queens</th>\n",
       "      <th>Entire home/apt</th>\n",
       "      <td>123.149189</td>\n",
       "    </tr>\n",
       "    <tr>\n",
       "      <th>Private room</th>\n",
       "      <td>66.767842</td>\n",
       "    </tr>\n",
       "    <tr>\n",
       "      <th>Shared room</th>\n",
       "      <td>58.492063</td>\n",
       "    </tr>\n",
       "    <tr>\n",
       "      <th rowspan=\"3\" valign=\"top\">Staten Island</th>\n",
       "      <th>Entire home/apt</th>\n",
       "      <td>111.624113</td>\n",
       "    </tr>\n",
       "    <tr>\n",
       "      <th>Private room</th>\n",
       "      <td>67.008696</td>\n",
       "    </tr>\n",
       "    <tr>\n",
       "      <th>Shared room</th>\n",
       "      <td>112.500000</td>\n",
       "    </tr>\n",
       "  </tbody>\n",
       "</table>\n",
       "</div>"
      ],
      "text/plain": [
       "                                          price\n",
       "neighbourhood_group room_type                  \n",
       "Bronx               Entire home/apt  107.946996\n",
       "                    Private room      61.980861\n",
       "                    Shared room       59.812500\n",
       "Brooklyn            Entire home/apt  139.174756\n",
       "                    Private room      71.901211\n",
       "                    Shared room       67.045455\n",
       "Manhattan           Entire home/apt  163.935266\n",
       "                    Private room      95.465378\n",
       "                    Shared room       77.206667\n",
       "Queens              Entire home/apt  123.149189\n",
       "                    Private room      66.767842\n",
       "                    Shared room       58.492063\n",
       "Staten Island       Entire home/apt  111.624113\n",
       "                    Private room      67.008696\n",
       "                    Shared room      112.500000"
      ]
     },
     "execution_count": 74,
     "metadata": {},
     "output_type": "execute_result"
    }
   ],
   "source": [
    "df[['room_type', 'price', 'neighbourhood_group']].groupby(['neighbourhood_group', 'room_type']).mean()"
   ]
  },
  {
   "cell_type": "markdown",
   "metadata": {},
   "source": [
    "# Price prediction\n",
    "\n",
    "In this section we will use a simple linear regression to obtain an approach of the price. In a real project this kind of approach will be a baseline model. "
   ]
  },
  {
   "cell_type": "code",
   "execution_count": 75,
   "metadata": {
    "slideshow": {
     "slide_type": "skip"
    }
   },
   "outputs": [
    {
     "data": {
      "text/html": [
       "<div>\n",
       "<style scoped>\n",
       "    .dataframe tbody tr th:only-of-type {\n",
       "        vertical-align: middle;\n",
       "    }\n",
       "\n",
       "    .dataframe tbody tr th {\n",
       "        vertical-align: top;\n",
       "    }\n",
       "\n",
       "    .dataframe thead th {\n",
       "        text-align: right;\n",
       "    }\n",
       "</style>\n",
       "<table border=\"1\" class=\"dataframe\">\n",
       "  <thead>\n",
       "    <tr style=\"text-align: right;\">\n",
       "      <th></th>\n",
       "      <th>host_id</th>\n",
       "      <th>neighbourhood</th>\n",
       "      <th>latitude</th>\n",
       "      <th>longitude</th>\n",
       "      <th>price</th>\n",
       "      <th>minimum_nights</th>\n",
       "      <th>number_of_reviews</th>\n",
       "      <th>reviews_per_month</th>\n",
       "      <th>neighbourhood_group_Bronx</th>\n",
       "      <th>neighbourhood_group_Brooklyn</th>\n",
       "      <th>neighbourhood_group_Manhattan</th>\n",
       "      <th>neighbourhood_group_Queens</th>\n",
       "      <th>neighbourhood_group_Staten Island</th>\n",
       "      <th>room_type_Entire home/apt</th>\n",
       "      <th>room_type_Private room</th>\n",
       "      <th>room_type_Shared room</th>\n",
       "    </tr>\n",
       "  </thead>\n",
       "  <tbody>\n",
       "    <tr>\n",
       "      <th>0</th>\n",
       "      <td>2787</td>\n",
       "      <td>Kensington</td>\n",
       "      <td>40.64749</td>\n",
       "      <td>-73.97237</td>\n",
       "      <td>149</td>\n",
       "      <td>1</td>\n",
       "      <td>9</td>\n",
       "      <td>0.21</td>\n",
       "      <td>0</td>\n",
       "      <td>1</td>\n",
       "      <td>0</td>\n",
       "      <td>0</td>\n",
       "      <td>0</td>\n",
       "      <td>0</td>\n",
       "      <td>1</td>\n",
       "      <td>0</td>\n",
       "    </tr>\n",
       "    <tr>\n",
       "      <th>1</th>\n",
       "      <td>2845</td>\n",
       "      <td>Midtown</td>\n",
       "      <td>40.75362</td>\n",
       "      <td>-73.98377</td>\n",
       "      <td>225</td>\n",
       "      <td>1</td>\n",
       "      <td>45</td>\n",
       "      <td>0.38</td>\n",
       "      <td>0</td>\n",
       "      <td>0</td>\n",
       "      <td>1</td>\n",
       "      <td>0</td>\n",
       "      <td>0</td>\n",
       "      <td>1</td>\n",
       "      <td>0</td>\n",
       "      <td>0</td>\n",
       "    </tr>\n",
       "    <tr>\n",
       "      <th>3</th>\n",
       "      <td>4869</td>\n",
       "      <td>Clinton Hill</td>\n",
       "      <td>40.68514</td>\n",
       "      <td>-73.95976</td>\n",
       "      <td>89</td>\n",
       "      <td>1</td>\n",
       "      <td>270</td>\n",
       "      <td>4.64</td>\n",
       "      <td>0</td>\n",
       "      <td>1</td>\n",
       "      <td>0</td>\n",
       "      <td>0</td>\n",
       "      <td>0</td>\n",
       "      <td>1</td>\n",
       "      <td>0</td>\n",
       "      <td>0</td>\n",
       "    </tr>\n",
       "    <tr>\n",
       "      <th>4</th>\n",
       "      <td>7192</td>\n",
       "      <td>East Harlem</td>\n",
       "      <td>40.79851</td>\n",
       "      <td>-73.94399</td>\n",
       "      <td>80</td>\n",
       "      <td>10</td>\n",
       "      <td>9</td>\n",
       "      <td>0.10</td>\n",
       "      <td>0</td>\n",
       "      <td>0</td>\n",
       "      <td>1</td>\n",
       "      <td>0</td>\n",
       "      <td>0</td>\n",
       "      <td>1</td>\n",
       "      <td>0</td>\n",
       "      <td>0</td>\n",
       "    </tr>\n",
       "    <tr>\n",
       "      <th>5</th>\n",
       "      <td>7322</td>\n",
       "      <td>Murray Hill</td>\n",
       "      <td>40.74767</td>\n",
       "      <td>-73.97500</td>\n",
       "      <td>200</td>\n",
       "      <td>3</td>\n",
       "      <td>74</td>\n",
       "      <td>0.59</td>\n",
       "      <td>0</td>\n",
       "      <td>0</td>\n",
       "      <td>1</td>\n",
       "      <td>0</td>\n",
       "      <td>0</td>\n",
       "      <td>1</td>\n",
       "      <td>0</td>\n",
       "      <td>0</td>\n",
       "    </tr>\n",
       "  </tbody>\n",
       "</table>\n",
       "</div>"
      ],
      "text/plain": [
       "   host_id neighbourhood  latitude  longitude  price  minimum_nights  \\\n",
       "0     2787    Kensington  40.64749  -73.97237    149               1   \n",
       "1     2845       Midtown  40.75362  -73.98377    225               1   \n",
       "3     4869  Clinton Hill  40.68514  -73.95976     89               1   \n",
       "4     7192   East Harlem  40.79851  -73.94399     80              10   \n",
       "5     7322   Murray Hill  40.74767  -73.97500    200               3   \n",
       "\n",
       "   number_of_reviews  reviews_per_month  neighbourhood_group_Bronx  \\\n",
       "0                  9               0.21                          0   \n",
       "1                 45               0.38                          0   \n",
       "3                270               4.64                          0   \n",
       "4                  9               0.10                          0   \n",
       "5                 74               0.59                          0   \n",
       "\n",
       "   neighbourhood_group_Brooklyn  neighbourhood_group_Manhattan  \\\n",
       "0                             1                              0   \n",
       "1                             0                              1   \n",
       "3                             1                              0   \n",
       "4                             0                              1   \n",
       "5                             0                              1   \n",
       "\n",
       "   neighbourhood_group_Queens  neighbourhood_group_Staten Island  \\\n",
       "0                           0                                  0   \n",
       "1                           0                                  0   \n",
       "3                           0                                  0   \n",
       "4                           0                                  0   \n",
       "5                           0                                  0   \n",
       "\n",
       "   room_type_Entire home/apt  room_type_Private room  room_type_Shared room  \n",
       "0                          0                       1                      0  \n",
       "1                          1                       0                      0  \n",
       "3                          1                       0                      0  \n",
       "4                          1                       0                      0  \n",
       "5                          1                       0                      0  "
      ]
     },
     "execution_count": 75,
     "metadata": {},
     "output_type": "execute_result"
    }
   ],
   "source": [
    "# obtain dummy variables from categorical ones\n",
    "\n",
    "cat_var = ['neighbourhood_group','room_type']\n",
    "\n",
    "for v in cat_var:\n",
    "    dummies = pd.get_dummies(df[v],prefix=v)\n",
    "    df = pd.concat([df,dummies],axis=1)\n",
    "    df.drop([v],axis=1,inplace=True)\n",
    "\n",
    "df.head()"
   ]
  },
  {
   "cell_type": "code",
   "execution_count": 79,
   "metadata": {},
   "outputs": [],
   "source": [
    "df.drop('neighbourhood', axis=1, inplace=True)"
   ]
  },
  {
   "cell_type": "code",
   "execution_count": 80,
   "metadata": {
    "slideshow": {
     "slide_type": "skip"
    }
   },
   "outputs": [
    {
     "data": {
      "text/html": [
       "<div>\n",
       "<style scoped>\n",
       "    .dataframe tbody tr th:only-of-type {\n",
       "        vertical-align: middle;\n",
       "    }\n",
       "\n",
       "    .dataframe tbody tr th {\n",
       "        vertical-align: top;\n",
       "    }\n",
       "\n",
       "    .dataframe thead th {\n",
       "        text-align: right;\n",
       "    }\n",
       "</style>\n",
       "<table border=\"1\" class=\"dataframe\">\n",
       "  <thead>\n",
       "    <tr style=\"text-align: right;\">\n",
       "      <th></th>\n",
       "      <th>host_id</th>\n",
       "      <th>latitude</th>\n",
       "      <th>longitude</th>\n",
       "      <th>price</th>\n",
       "      <th>minimum_nights</th>\n",
       "      <th>number_of_reviews</th>\n",
       "      <th>reviews_per_month</th>\n",
       "      <th>neighbourhood_group_Bronx</th>\n",
       "      <th>neighbourhood_group_Brooklyn</th>\n",
       "      <th>neighbourhood_group_Manhattan</th>\n",
       "      <th>neighbourhood_group_Queens</th>\n",
       "      <th>neighbourhood_group_Staten Island</th>\n",
       "      <th>room_type_Entire home/apt</th>\n",
       "      <th>room_type_Private room</th>\n",
       "      <th>room_type_Shared room</th>\n",
       "    </tr>\n",
       "  </thead>\n",
       "  <tbody>\n",
       "    <tr>\n",
       "      <th>host_id</th>\n",
       "      <td>1.000000</td>\n",
       "      <td>0.010677</td>\n",
       "      <td>0.160365</td>\n",
       "      <td>-0.062597</td>\n",
       "      <td>-0.079684</td>\n",
       "      <td>-0.133977</td>\n",
       "      <td>0.285569</td>\n",
       "      <td>0.078207</td>\n",
       "      <td>-0.101043</td>\n",
       "      <td>-0.026903</td>\n",
       "      <td>0.147558</td>\n",
       "      <td>0.043928</td>\n",
       "      <td>-0.094188</td>\n",
       "      <td>0.080141</td>\n",
       "      <td>0.058515</td>\n",
       "    </tr>\n",
       "    <tr>\n",
       "      <th>latitude</th>\n",
       "      <td>0.010677</td>\n",
       "      <td>1.000000</td>\n",
       "      <td>0.087782</td>\n",
       "      <td>0.039685</td>\n",
       "      <td>0.038491</td>\n",
       "      <td>-0.006831</td>\n",
       "      <td>-0.017816</td>\n",
       "      <td>0.320824</td>\n",
       "      <td>-0.681258</td>\n",
       "      <td>0.607283</td>\n",
       "      <td>0.025860</td>\n",
       "      <td>-0.185132</td>\n",
       "      <td>-0.047101</td>\n",
       "      <td>0.037207</td>\n",
       "      <td>0.041171</td>\n",
       "    </tr>\n",
       "    <tr>\n",
       "      <th>longitude</th>\n",
       "      <td>0.160365</td>\n",
       "      <td>0.087782</td>\n",
       "      <td>1.000000</td>\n",
       "      <td>-0.299689</td>\n",
       "      <td>-0.100195</td>\n",
       "      <td>0.052533</td>\n",
       "      <td>0.155383</td>\n",
       "      <td>0.211989</td>\n",
       "      <td>-0.018108</td>\n",
       "      <td>-0.406221</td>\n",
       "      <td>0.625788</td>\n",
       "      <td>-0.296610</td>\n",
       "      <td>-0.139904</td>\n",
       "      <td>0.141507</td>\n",
       "      <td>-0.006337</td>\n",
       "    </tr>\n",
       "    <tr>\n",
       "      <th>price</th>\n",
       "      <td>-0.062597</td>\n",
       "      <td>0.039685</td>\n",
       "      <td>-0.299689</td>\n",
       "      <td>1.000000</td>\n",
       "      <td>0.055489</td>\n",
       "      <td>-0.020166</td>\n",
       "      <td>-0.056710</td>\n",
       "      <td>-0.091081</td>\n",
       "      <td>-0.140856</td>\n",
       "      <td>0.286463</td>\n",
       "      <td>-0.168232</td>\n",
       "      <td>-0.035492</td>\n",
       "      <td>0.626039</td>\n",
       "      <td>-0.604009</td>\n",
       "      <td>-0.092854</td>\n",
       "    </tr>\n",
       "    <tr>\n",
       "      <th>minimum_nights</th>\n",
       "      <td>-0.079684</td>\n",
       "      <td>0.038491</td>\n",
       "      <td>-0.100195</td>\n",
       "      <td>0.055489</td>\n",
       "      <td>1.000000</td>\n",
       "      <td>-0.136191</td>\n",
       "      <td>-0.217815</td>\n",
       "      <td>-0.037216</td>\n",
       "      <td>-0.043074</td>\n",
       "      <td>0.102339</td>\n",
       "      <td>-0.067676</td>\n",
       "      <td>-0.017734</td>\n",
       "      <td>0.149488</td>\n",
       "      <td>-0.140121</td>\n",
       "      <td>-0.039216</td>\n",
       "    </tr>\n",
       "    <tr>\n",
       "      <th>number_of_reviews</th>\n",
       "      <td>-0.133977</td>\n",
       "      <td>-0.006831</td>\n",
       "      <td>0.052533</td>\n",
       "      <td>-0.020166</td>\n",
       "      <td>-0.136191</td>\n",
       "      <td>1.000000</td>\n",
       "      <td>0.561047</td>\n",
       "      <td>0.012568</td>\n",
       "      <td>0.001134</td>\n",
       "      <td>-0.030514</td>\n",
       "      <td>0.035671</td>\n",
       "      <td>0.011409</td>\n",
       "      <td>-0.014908</td>\n",
       "      <td>0.018358</td>\n",
       "      <td>-0.014285</td>\n",
       "    </tr>\n",
       "    <tr>\n",
       "      <th>reviews_per_month</th>\n",
       "      <td>0.285569</td>\n",
       "      <td>-0.017816</td>\n",
       "      <td>0.155383</td>\n",
       "      <td>-0.056710</td>\n",
       "      <td>-0.217815</td>\n",
       "      <td>0.561047</td>\n",
       "      <td>1.000000</td>\n",
       "      <td>0.044190</td>\n",
       "      <td>-0.038380</td>\n",
       "      <td>-0.063232</td>\n",
       "      <td>0.126037</td>\n",
       "      <td>0.029941</td>\n",
       "      <td>-0.049711</td>\n",
       "      <td>0.047148</td>\n",
       "      <td>0.010752</td>\n",
       "    </tr>\n",
       "    <tr>\n",
       "      <th>neighbourhood_group_Bronx</th>\n",
       "      <td>0.078207</td>\n",
       "      <td>0.320824</td>\n",
       "      <td>0.211989</td>\n",
       "      <td>-0.091081</td>\n",
       "      <td>-0.037216</td>\n",
       "      <td>0.012568</td>\n",
       "      <td>0.044190</td>\n",
       "      <td>1.000000</td>\n",
       "      <td>-0.130255</td>\n",
       "      <td>-0.124445</td>\n",
       "      <td>-0.055043</td>\n",
       "      <td>-0.013079</td>\n",
       "      <td>-0.031765</td>\n",
       "      <td>0.029528</td>\n",
       "      <td>0.009357</td>\n",
       "    </tr>\n",
       "    <tr>\n",
       "      <th>neighbourhood_group_Brooklyn</th>\n",
       "      <td>-0.101043</td>\n",
       "      <td>-0.681258</td>\n",
       "      <td>-0.018108</td>\n",
       "      <td>-0.140856</td>\n",
       "      <td>-0.043074</td>\n",
       "      <td>0.001134</td>\n",
       "      <td>-0.038380</td>\n",
       "      <td>-0.130255</td>\n",
       "      <td>1.000000</td>\n",
       "      <td>-0.738295</td>\n",
       "      <td>-0.326554</td>\n",
       "      <td>-0.077591</td>\n",
       "      <td>-0.015887</td>\n",
       "      <td>0.028475</td>\n",
       "      <td>-0.052211</td>\n",
       "    </tr>\n",
       "    <tr>\n",
       "      <th>neighbourhood_group_Manhattan</th>\n",
       "      <td>-0.026903</td>\n",
       "      <td>0.607283</td>\n",
       "      <td>-0.406221</td>\n",
       "      <td>0.286463</td>\n",
       "      <td>0.102339</td>\n",
       "      <td>-0.030514</td>\n",
       "      <td>-0.063232</td>\n",
       "      <td>-0.124445</td>\n",
       "      <td>-0.738295</td>\n",
       "      <td>1.000000</td>\n",
       "      <td>-0.311989</td>\n",
       "      <td>-0.074131</td>\n",
       "      <td>0.076167</td>\n",
       "      <td>-0.088008</td>\n",
       "      <td>0.048975</td>\n",
       "    </tr>\n",
       "    <tr>\n",
       "      <th>neighbourhood_group_Queens</th>\n",
       "      <td>0.147558</td>\n",
       "      <td>0.025860</td>\n",
       "      <td>0.625788</td>\n",
       "      <td>-0.168232</td>\n",
       "      <td>-0.067676</td>\n",
       "      <td>0.035671</td>\n",
       "      <td>0.126037</td>\n",
       "      <td>-0.055043</td>\n",
       "      <td>-0.326554</td>\n",
       "      <td>-0.311989</td>\n",
       "      <td>1.000000</td>\n",
       "      <td>-0.032789</td>\n",
       "      <td>-0.078783</td>\n",
       "      <td>0.078190</td>\n",
       "      <td>0.002638</td>\n",
       "    </tr>\n",
       "    <tr>\n",
       "      <th>neighbourhood_group_Staten Island</th>\n",
       "      <td>0.043928</td>\n",
       "      <td>-0.185132</td>\n",
       "      <td>-0.296610</td>\n",
       "      <td>-0.035492</td>\n",
       "      <td>-0.017734</td>\n",
       "      <td>0.011409</td>\n",
       "      <td>0.029941</td>\n",
       "      <td>-0.013079</td>\n",
       "      <td>-0.077591</td>\n",
       "      <td>-0.074131</td>\n",
       "      <td>-0.032789</td>\n",
       "      <td>1.000000</td>\n",
       "      <td>0.007878</td>\n",
       "      <td>-0.006652</td>\n",
       "      <td>-0.005103</td>\n",
       "    </tr>\n",
       "    <tr>\n",
       "      <th>room_type_Entire home/apt</th>\n",
       "      <td>-0.094188</td>\n",
       "      <td>-0.047101</td>\n",
       "      <td>-0.139904</td>\n",
       "      <td>0.626039</td>\n",
       "      <td>0.149488</td>\n",
       "      <td>-0.014908</td>\n",
       "      <td>-0.049711</td>\n",
       "      <td>-0.031765</td>\n",
       "      <td>-0.015887</td>\n",
       "      <td>0.076167</td>\n",
       "      <td>-0.078783</td>\n",
       "      <td>0.007878</td>\n",
       "      <td>1.000000</td>\n",
       "      <td>-0.970993</td>\n",
       "      <td>-0.122658</td>\n",
       "    </tr>\n",
       "    <tr>\n",
       "      <th>room_type_Private room</th>\n",
       "      <td>0.080141</td>\n",
       "      <td>0.037207</td>\n",
       "      <td>0.141507</td>\n",
       "      <td>-0.604009</td>\n",
       "      <td>-0.140121</td>\n",
       "      <td>0.018358</td>\n",
       "      <td>0.047148</td>\n",
       "      <td>0.029528</td>\n",
       "      <td>0.028475</td>\n",
       "      <td>-0.088008</td>\n",
       "      <td>0.078190</td>\n",
       "      <td>-0.006652</td>\n",
       "      <td>-0.970993</td>\n",
       "      <td>1.000000</td>\n",
       "      <td>-0.118204</td>\n",
       "    </tr>\n",
       "    <tr>\n",
       "      <th>room_type_Shared room</th>\n",
       "      <td>0.058515</td>\n",
       "      <td>0.041171</td>\n",
       "      <td>-0.006337</td>\n",
       "      <td>-0.092854</td>\n",
       "      <td>-0.039216</td>\n",
       "      <td>-0.014285</td>\n",
       "      <td>0.010752</td>\n",
       "      <td>0.009357</td>\n",
       "      <td>-0.052211</td>\n",
       "      <td>0.048975</td>\n",
       "      <td>0.002638</td>\n",
       "      <td>-0.005103</td>\n",
       "      <td>-0.122658</td>\n",
       "      <td>-0.118204</td>\n",
       "      <td>1.000000</td>\n",
       "    </tr>\n",
       "  </tbody>\n",
       "</table>\n",
       "</div>"
      ],
      "text/plain": [
       "                                    host_id  latitude  longitude     price  \\\n",
       "host_id                            1.000000  0.010677   0.160365 -0.062597   \n",
       "latitude                           0.010677  1.000000   0.087782  0.039685   \n",
       "longitude                          0.160365  0.087782   1.000000 -0.299689   \n",
       "price                             -0.062597  0.039685  -0.299689  1.000000   \n",
       "minimum_nights                    -0.079684  0.038491  -0.100195  0.055489   \n",
       "number_of_reviews                 -0.133977 -0.006831   0.052533 -0.020166   \n",
       "reviews_per_month                  0.285569 -0.017816   0.155383 -0.056710   \n",
       "neighbourhood_group_Bronx          0.078207  0.320824   0.211989 -0.091081   \n",
       "neighbourhood_group_Brooklyn      -0.101043 -0.681258  -0.018108 -0.140856   \n",
       "neighbourhood_group_Manhattan     -0.026903  0.607283  -0.406221  0.286463   \n",
       "neighbourhood_group_Queens         0.147558  0.025860   0.625788 -0.168232   \n",
       "neighbourhood_group_Staten Island  0.043928 -0.185132  -0.296610 -0.035492   \n",
       "room_type_Entire home/apt         -0.094188 -0.047101  -0.139904  0.626039   \n",
       "room_type_Private room             0.080141  0.037207   0.141507 -0.604009   \n",
       "room_type_Shared room              0.058515  0.041171  -0.006337 -0.092854   \n",
       "\n",
       "                                   minimum_nights  number_of_reviews  \\\n",
       "host_id                                 -0.079684          -0.133977   \n",
       "latitude                                 0.038491          -0.006831   \n",
       "longitude                               -0.100195           0.052533   \n",
       "price                                    0.055489          -0.020166   \n",
       "minimum_nights                           1.000000          -0.136191   \n",
       "number_of_reviews                       -0.136191           1.000000   \n",
       "reviews_per_month                       -0.217815           0.561047   \n",
       "neighbourhood_group_Bronx               -0.037216           0.012568   \n",
       "neighbourhood_group_Brooklyn            -0.043074           0.001134   \n",
       "neighbourhood_group_Manhattan            0.102339          -0.030514   \n",
       "neighbourhood_group_Queens              -0.067676           0.035671   \n",
       "neighbourhood_group_Staten Island       -0.017734           0.011409   \n",
       "room_type_Entire home/apt                0.149488          -0.014908   \n",
       "room_type_Private room                  -0.140121           0.018358   \n",
       "room_type_Shared room                   -0.039216          -0.014285   \n",
       "\n",
       "                                   reviews_per_month  \\\n",
       "host_id                                     0.285569   \n",
       "latitude                                   -0.017816   \n",
       "longitude                                   0.155383   \n",
       "price                                      -0.056710   \n",
       "minimum_nights                             -0.217815   \n",
       "number_of_reviews                           0.561047   \n",
       "reviews_per_month                           1.000000   \n",
       "neighbourhood_group_Bronx                   0.044190   \n",
       "neighbourhood_group_Brooklyn               -0.038380   \n",
       "neighbourhood_group_Manhattan              -0.063232   \n",
       "neighbourhood_group_Queens                  0.126037   \n",
       "neighbourhood_group_Staten Island           0.029941   \n",
       "room_type_Entire home/apt                  -0.049711   \n",
       "room_type_Private room                      0.047148   \n",
       "room_type_Shared room                       0.010752   \n",
       "\n",
       "                                   neighbourhood_group_Bronx  \\\n",
       "host_id                                             0.078207   \n",
       "latitude                                            0.320824   \n",
       "longitude                                           0.211989   \n",
       "price                                              -0.091081   \n",
       "minimum_nights                                     -0.037216   \n",
       "number_of_reviews                                   0.012568   \n",
       "reviews_per_month                                   0.044190   \n",
       "neighbourhood_group_Bronx                           1.000000   \n",
       "neighbourhood_group_Brooklyn                       -0.130255   \n",
       "neighbourhood_group_Manhattan                      -0.124445   \n",
       "neighbourhood_group_Queens                         -0.055043   \n",
       "neighbourhood_group_Staten Island                  -0.013079   \n",
       "room_type_Entire home/apt                          -0.031765   \n",
       "room_type_Private room                              0.029528   \n",
       "room_type_Shared room                               0.009357   \n",
       "\n",
       "                                   neighbourhood_group_Brooklyn  \\\n",
       "host_id                                               -0.101043   \n",
       "latitude                                              -0.681258   \n",
       "longitude                                             -0.018108   \n",
       "price                                                 -0.140856   \n",
       "minimum_nights                                        -0.043074   \n",
       "number_of_reviews                                      0.001134   \n",
       "reviews_per_month                                     -0.038380   \n",
       "neighbourhood_group_Bronx                             -0.130255   \n",
       "neighbourhood_group_Brooklyn                           1.000000   \n",
       "neighbourhood_group_Manhattan                         -0.738295   \n",
       "neighbourhood_group_Queens                            -0.326554   \n",
       "neighbourhood_group_Staten Island                     -0.077591   \n",
       "room_type_Entire home/apt                             -0.015887   \n",
       "room_type_Private room                                 0.028475   \n",
       "room_type_Shared room                                 -0.052211   \n",
       "\n",
       "                                   neighbourhood_group_Manhattan  \\\n",
       "host_id                                                -0.026903   \n",
       "latitude                                                0.607283   \n",
       "longitude                                              -0.406221   \n",
       "price                                                   0.286463   \n",
       "minimum_nights                                          0.102339   \n",
       "number_of_reviews                                      -0.030514   \n",
       "reviews_per_month                                      -0.063232   \n",
       "neighbourhood_group_Bronx                              -0.124445   \n",
       "neighbourhood_group_Brooklyn                           -0.738295   \n",
       "neighbourhood_group_Manhattan                           1.000000   \n",
       "neighbourhood_group_Queens                             -0.311989   \n",
       "neighbourhood_group_Staten Island                      -0.074131   \n",
       "room_type_Entire home/apt                               0.076167   \n",
       "room_type_Private room                                 -0.088008   \n",
       "room_type_Shared room                                   0.048975   \n",
       "\n",
       "                                   neighbourhood_group_Queens  \\\n",
       "host_id                                              0.147558   \n",
       "latitude                                             0.025860   \n",
       "longitude                                            0.625788   \n",
       "price                                               -0.168232   \n",
       "minimum_nights                                      -0.067676   \n",
       "number_of_reviews                                    0.035671   \n",
       "reviews_per_month                                    0.126037   \n",
       "neighbourhood_group_Bronx                           -0.055043   \n",
       "neighbourhood_group_Brooklyn                        -0.326554   \n",
       "neighbourhood_group_Manhattan                       -0.311989   \n",
       "neighbourhood_group_Queens                           1.000000   \n",
       "neighbourhood_group_Staten Island                   -0.032789   \n",
       "room_type_Entire home/apt                           -0.078783   \n",
       "room_type_Private room                               0.078190   \n",
       "room_type_Shared room                                0.002638   \n",
       "\n",
       "                                   neighbourhood_group_Staten Island  \\\n",
       "host_id                                                     0.043928   \n",
       "latitude                                                   -0.185132   \n",
       "longitude                                                  -0.296610   \n",
       "price                                                      -0.035492   \n",
       "minimum_nights                                             -0.017734   \n",
       "number_of_reviews                                           0.011409   \n",
       "reviews_per_month                                           0.029941   \n",
       "neighbourhood_group_Bronx                                  -0.013079   \n",
       "neighbourhood_group_Brooklyn                               -0.077591   \n",
       "neighbourhood_group_Manhattan                              -0.074131   \n",
       "neighbourhood_group_Queens                                 -0.032789   \n",
       "neighbourhood_group_Staten Island                           1.000000   \n",
       "room_type_Entire home/apt                                   0.007878   \n",
       "room_type_Private room                                     -0.006652   \n",
       "room_type_Shared room                                      -0.005103   \n",
       "\n",
       "                                   room_type_Entire home/apt  \\\n",
       "host_id                                            -0.094188   \n",
       "latitude                                           -0.047101   \n",
       "longitude                                          -0.139904   \n",
       "price                                               0.626039   \n",
       "minimum_nights                                      0.149488   \n",
       "number_of_reviews                                  -0.014908   \n",
       "reviews_per_month                                  -0.049711   \n",
       "neighbourhood_group_Bronx                          -0.031765   \n",
       "neighbourhood_group_Brooklyn                       -0.015887   \n",
       "neighbourhood_group_Manhattan                       0.076167   \n",
       "neighbourhood_group_Queens                         -0.078783   \n",
       "neighbourhood_group_Staten Island                   0.007878   \n",
       "room_type_Entire home/apt                           1.000000   \n",
       "room_type_Private room                             -0.970993   \n",
       "room_type_Shared room                              -0.122658   \n",
       "\n",
       "                                   room_type_Private room  \\\n",
       "host_id                                          0.080141   \n",
       "latitude                                         0.037207   \n",
       "longitude                                        0.141507   \n",
       "price                                           -0.604009   \n",
       "minimum_nights                                  -0.140121   \n",
       "number_of_reviews                                0.018358   \n",
       "reviews_per_month                                0.047148   \n",
       "neighbourhood_group_Bronx                        0.029528   \n",
       "neighbourhood_group_Brooklyn                     0.028475   \n",
       "neighbourhood_group_Manhattan                   -0.088008   \n",
       "neighbourhood_group_Queens                       0.078190   \n",
       "neighbourhood_group_Staten Island               -0.006652   \n",
       "room_type_Entire home/apt                       -0.970993   \n",
       "room_type_Private room                           1.000000   \n",
       "room_type_Shared room                           -0.118204   \n",
       "\n",
       "                                   room_type_Shared room  \n",
       "host_id                                         0.058515  \n",
       "latitude                                        0.041171  \n",
       "longitude                                      -0.006337  \n",
       "price                                          -0.092854  \n",
       "minimum_nights                                 -0.039216  \n",
       "number_of_reviews                              -0.014285  \n",
       "reviews_per_month                               0.010752  \n",
       "neighbourhood_group_Bronx                       0.009357  \n",
       "neighbourhood_group_Brooklyn                   -0.052211  \n",
       "neighbourhood_group_Manhattan                   0.048975  \n",
       "neighbourhood_group_Queens                      0.002638  \n",
       "neighbourhood_group_Staten Island              -0.005103  \n",
       "room_type_Entire home/apt                      -0.122658  \n",
       "room_type_Private room                         -0.118204  \n",
       "room_type_Shared room                           1.000000  "
      ]
     },
     "execution_count": 80,
     "metadata": {},
     "output_type": "execute_result"
    }
   ],
   "source": [
    "# correlations\n",
    "\n",
    "df.corr()"
   ]
  },
  {
   "cell_type": "code",
   "execution_count": 81,
   "metadata": {
    "slideshow": {
     "slide_type": "skip"
    }
   },
   "outputs": [],
   "source": [
    "# define x and y (target variable)\n",
    "\n",
    "x = df.drop(['price'], axis=1)\n",
    "y = df['price']\n",
    "\n",
    "# split train and test dataset\n",
    "train_x, test_x, train_y, test_y = train_test_split(x,y , test_size=0.3, random_state=42)"
   ]
  },
  {
   "cell_type": "code",
   "execution_count": 83,
   "metadata": {
    "slideshow": {
     "slide_type": "skip"
    }
   },
   "outputs": [
    {
     "data": {
      "text/plain": [
       "0.48682808607180694"
      ]
     },
     "execution_count": 83,
     "metadata": {},
     "output_type": "execute_result"
    }
   ],
   "source": [
    "# linear regression\n",
    "\n",
    "linear_model_sk = LinearRegression()  \n",
    "\n",
    "#fit the model \n",
    "linear_model_sk.fit(train_x, train_y)\n",
    "\n",
    "# score (R^2)\n",
    "linear_model_sk.score(train_x, train_y)"
   ]
  },
  {
   "cell_type": "markdown",
   "metadata": {
    "slideshow": {
     "slide_type": "skip"
    }
   },
   "source": [
    "Very low score. This is because there is no linear correlation between the target value and the regressors. "
   ]
  },
  {
   "cell_type": "code",
   "execution_count": 85,
   "metadata": {
    "slideshow": {
     "slide_type": "skip"
    }
   },
   "outputs": [
    {
     "data": {
      "text/html": [
       "<div>\n",
       "<style scoped>\n",
       "    .dataframe tbody tr th:only-of-type {\n",
       "        vertical-align: middle;\n",
       "    }\n",
       "\n",
       "    .dataframe tbody tr th {\n",
       "        vertical-align: top;\n",
       "    }\n",
       "\n",
       "    .dataframe thead th {\n",
       "        text-align: right;\n",
       "    }\n",
       "</style>\n",
       "<table border=\"1\" class=\"dataframe\">\n",
       "  <thead>\n",
       "    <tr style=\"text-align: right;\">\n",
       "      <th></th>\n",
       "      <th>Actual</th>\n",
       "      <th>Predicted</th>\n",
       "      <th>APE (%)</th>\n",
       "    </tr>\n",
       "  </thead>\n",
       "  <tbody>\n",
       "    <tr>\n",
       "      <th>46260</th>\n",
       "      <td>55</td>\n",
       "      <td>62.767952</td>\n",
       "      <td>14.123550</td>\n",
       "    </tr>\n",
       "    <tr>\n",
       "      <th>30548</th>\n",
       "      <td>45</td>\n",
       "      <td>84.515207</td>\n",
       "      <td>87.811572</td>\n",
       "    </tr>\n",
       "    <tr>\n",
       "      <th>1023</th>\n",
       "      <td>125</td>\n",
       "      <td>103.617021</td>\n",
       "      <td>17.106383</td>\n",
       "    </tr>\n",
       "    <tr>\n",
       "      <th>4670</th>\n",
       "      <td>125</td>\n",
       "      <td>141.358799</td>\n",
       "      <td>13.087039</td>\n",
       "    </tr>\n",
       "    <tr>\n",
       "      <th>14140</th>\n",
       "      <td>50</td>\n",
       "      <td>67.920807</td>\n",
       "      <td>35.841613</td>\n",
       "    </tr>\n",
       "    <tr>\n",
       "      <th>25675</th>\n",
       "      <td>151</td>\n",
       "      <td>156.900636</td>\n",
       "      <td>3.907706</td>\n",
       "    </tr>\n",
       "    <tr>\n",
       "      <th>40105</th>\n",
       "      <td>125</td>\n",
       "      <td>130.178715</td>\n",
       "      <td>4.142972</td>\n",
       "    </tr>\n",
       "    <tr>\n",
       "      <th>41753</th>\n",
       "      <td>202</td>\n",
       "      <td>154.489276</td>\n",
       "      <td>23.520161</td>\n",
       "    </tr>\n",
       "    <tr>\n",
       "      <th>23199</th>\n",
       "      <td>150</td>\n",
       "      <td>152.857063</td>\n",
       "      <td>1.904708</td>\n",
       "    </tr>\n",
       "    <tr>\n",
       "      <th>1405</th>\n",
       "      <td>148</td>\n",
       "      <td>168.282164</td>\n",
       "      <td>13.704165</td>\n",
       "    </tr>\n",
       "    <tr>\n",
       "      <th>36236</th>\n",
       "      <td>115</td>\n",
       "      <td>136.366106</td>\n",
       "      <td>18.579222</td>\n",
       "    </tr>\n",
       "    <tr>\n",
       "      <th>36883</th>\n",
       "      <td>175</td>\n",
       "      <td>99.400471</td>\n",
       "      <td>43.199731</td>\n",
       "    </tr>\n",
       "    <tr>\n",
       "      <th>35008</th>\n",
       "      <td>150</td>\n",
       "      <td>109.788536</td>\n",
       "      <td>26.807643</td>\n",
       "    </tr>\n",
       "    <tr>\n",
       "      <th>27324</th>\n",
       "      <td>235</td>\n",
       "      <td>144.326159</td>\n",
       "      <td>38.584613</td>\n",
       "    </tr>\n",
       "    <tr>\n",
       "      <th>34698</th>\n",
       "      <td>50</td>\n",
       "      <td>73.556198</td>\n",
       "      <td>47.112397</td>\n",
       "    </tr>\n",
       "    <tr>\n",
       "      <th>33001</th>\n",
       "      <td>97</td>\n",
       "      <td>87.779652</td>\n",
       "      <td>9.505513</td>\n",
       "    </tr>\n",
       "    <tr>\n",
       "      <th>19417</th>\n",
       "      <td>129</td>\n",
       "      <td>150.751151</td>\n",
       "      <td>16.861358</td>\n",
       "    </tr>\n",
       "    <tr>\n",
       "      <th>33561</th>\n",
       "      <td>180</td>\n",
       "      <td>134.930338</td>\n",
       "      <td>25.038701</td>\n",
       "    </tr>\n",
       "    <tr>\n",
       "      <th>43478</th>\n",
       "      <td>65</td>\n",
       "      <td>129.351839</td>\n",
       "      <td>99.002829</td>\n",
       "    </tr>\n",
       "    <tr>\n",
       "      <th>7681</th>\n",
       "      <td>45</td>\n",
       "      <td>37.806176</td>\n",
       "      <td>15.986275</td>\n",
       "    </tr>\n",
       "    <tr>\n",
       "      <th>5067</th>\n",
       "      <td>65</td>\n",
       "      <td>62.860532</td>\n",
       "      <td>3.291490</td>\n",
       "    </tr>\n",
       "    <tr>\n",
       "      <th>24700</th>\n",
       "      <td>129</td>\n",
       "      <td>105.018197</td>\n",
       "      <td>18.590545</td>\n",
       "    </tr>\n",
       "    <tr>\n",
       "      <th>46050</th>\n",
       "      <td>80</td>\n",
       "      <td>131.616918</td>\n",
       "      <td>64.521147</td>\n",
       "    </tr>\n",
       "    <tr>\n",
       "      <th>24308</th>\n",
       "      <td>100</td>\n",
       "      <td>139.826689</td>\n",
       "      <td>39.826689</td>\n",
       "    </tr>\n",
       "    <tr>\n",
       "      <th>47014</th>\n",
       "      <td>50</td>\n",
       "      <td>72.632954</td>\n",
       "      <td>45.265908</td>\n",
       "    </tr>\n",
       "    <tr>\n",
       "      <th>2395</th>\n",
       "      <td>70</td>\n",
       "      <td>147.209531</td>\n",
       "      <td>110.299330</td>\n",
       "    </tr>\n",
       "    <tr>\n",
       "      <th>34565</th>\n",
       "      <td>120</td>\n",
       "      <td>127.821379</td>\n",
       "      <td>6.517816</td>\n",
       "    </tr>\n",
       "    <tr>\n",
       "      <th>6947</th>\n",
       "      <td>170</td>\n",
       "      <td>152.092671</td>\n",
       "      <td>10.533723</td>\n",
       "    </tr>\n",
       "    <tr>\n",
       "      <th>37580</th>\n",
       "      <td>74</td>\n",
       "      <td>151.816579</td>\n",
       "      <td>105.157539</td>\n",
       "    </tr>\n",
       "    <tr>\n",
       "      <th>8336</th>\n",
       "      <td>79</td>\n",
       "      <td>75.784639</td>\n",
       "      <td>4.070077</td>\n",
       "    </tr>\n",
       "  </tbody>\n",
       "</table>\n",
       "</div>"
      ],
      "text/plain": [
       "       Actual   Predicted     APE (%)\n",
       "46260      55   62.767952   14.123550\n",
       "30548      45   84.515207   87.811572\n",
       "1023      125  103.617021   17.106383\n",
       "4670      125  141.358799   13.087039\n",
       "14140      50   67.920807   35.841613\n",
       "25675     151  156.900636    3.907706\n",
       "40105     125  130.178715    4.142972\n",
       "41753     202  154.489276   23.520161\n",
       "23199     150  152.857063    1.904708\n",
       "1405      148  168.282164   13.704165\n",
       "36236     115  136.366106   18.579222\n",
       "36883     175   99.400471   43.199731\n",
       "35008     150  109.788536   26.807643\n",
       "27324     235  144.326159   38.584613\n",
       "34698      50   73.556198   47.112397\n",
       "33001      97   87.779652    9.505513\n",
       "19417     129  150.751151   16.861358\n",
       "33561     180  134.930338   25.038701\n",
       "43478      65  129.351839   99.002829\n",
       "7681       45   37.806176   15.986275\n",
       "5067       65   62.860532    3.291490\n",
       "24700     129  105.018197   18.590545\n",
       "46050      80  131.616918   64.521147\n",
       "24308     100  139.826689   39.826689\n",
       "47014      50   72.632954   45.265908\n",
       "2395       70  147.209531  110.299330\n",
       "34565     120  127.821379    6.517816\n",
       "6947      170  152.092671   10.533723\n",
       "37580      74  151.816579  105.157539\n",
       "8336       79   75.784639    4.070077"
      ]
     },
     "execution_count": 85,
     "metadata": {},
     "output_type": "execute_result"
    }
   ],
   "source": [
    "# table with real values, predictions and APE (Absolute Percentage Error)\n",
    "\n",
    "# predictions\n",
    "pred_y = linear_model_sk.predict(test_x)\n",
    "\n",
    "\n",
    "ape = abs(100 * (pred_y - test_y) / test_y)\n",
    "df_out_linear = pd.DataFrame({'Actual': test_y, 'Predicted': pred_y, 'APE (%)': ape})\n",
    "df_out_linear.head(30)"
   ]
  },
  {
   "cell_type": "code",
   "execution_count": null,
   "metadata": {},
   "outputs": [],
   "source": []
  }
 ],
 "metadata": {
  "celltoolbar": "Slideshow",
  "hide_input": false,
  "kernelspec": {
   "display_name": "Python 3 (ipykernel)",
   "language": "python",
   "name": "python3"
  },
  "language_info": {
   "codemirror_mode": {
    "name": "ipython",
    "version": 3
   },
   "file_extension": ".py",
   "mimetype": "text/x-python",
   "name": "python",
   "nbconvert_exporter": "python",
   "pygments_lexer": "ipython3",
   "version": "3.8.16"
  },
  "latex_envs": {
   "LaTeX_envs_menu_present": true,
   "autoclose": false,
   "autocomplete": true,
   "bibliofile": "biblio.bib",
   "cite_by": "apalike",
   "current_citInitial": 1,
   "eqLabelWithNumbers": true,
   "eqNumInitial": 1,
   "hotkeys": {
    "equation": "Ctrl-E",
    "itemize": "Ctrl-I"
   },
   "labels_anchors": false,
   "latex_user_defs": false,
   "report_style_numbering": false,
   "user_envs_cfg": false
  },
  "toc": {
   "base_numbering": "1",
   "nav_menu": {},
   "number_sections": false,
   "sideBar": true,
   "skip_h1_title": false,
   "title_cell": "Table of Contents",
   "title_sidebar": "Indice",
   "toc_cell": false,
   "toc_position": {
    "height": "calc(100% - 180px)",
    "left": "10px",
    "top": "150px",
    "width": "307.2px"
   },
   "toc_section_display": true,
   "toc_window_display": false
  }
 },
 "nbformat": 4,
 "nbformat_minor": 4
}
